{
 "cells": [
  {
   "cell_type": "markdown",
   "id": "a9bff53e",
   "metadata": {},
   "source": [
    "# Lesson 1: Advanced RAG Pipeline"
   ]
  },
  {
   "cell_type": "code",
   "execution_count": 1,
   "id": "efe55d3f-fc09-4e18-a1de-422fdf552751",
   "metadata": {},
   "outputs": [],
   "source": [
    "%load_ext autoreload\n",
    "%autoreload 2"
   ]
  },
  {
   "cell_type": "code",
   "execution_count": 2,
   "id": "fe47658a-2670-4f42-9e9b-d26d7c1bbacc",
   "metadata": {},
   "outputs": [],
   "source": [
    "import os\n",
    "from dotenv import load_dotenv, find_dotenv"
   ]
  },
  {
   "cell_type": "code",
   "execution_count": 3,
   "id": "121f47ed-5966-41fb-ae44-8477d95e5651",
   "metadata": {},
   "outputs": [],
   "source": [
    "import numpy as np"
   ]
  },
  {
   "cell_type": "code",
   "execution_count": 4,
   "id": "24a2c1f0-8532-4e09-83c3-999c8e1fbc60",
   "metadata": {},
   "outputs": [],
   "source": [
    "from trulens_eval import (\n",
    "    Feedback,\n",
    "    TruLlama,\n",
    "    OpenAI\n",
    ")\n",
    "\n",
    "from trulens_eval.feedback import Groundedness"
   ]
  },
  {
   "cell_type": "code",
   "execution_count": 5,
   "id": "84909aec-b192-4843-adbd-1b7effa2660f",
   "metadata": {},
   "outputs": [],
   "source": [
    "import nest_asyncio"
   ]
  },
  {
   "cell_type": "code",
   "execution_count": 6,
   "id": "feb98470-c136-471d-a63e-d50d8eb09c57",
   "metadata": {
    "height": 98,
    "tags": []
   },
   "outputs": [
    {
     "name": "stdout",
     "output_type": "stream",
     "text": [
      "✅ In Answer Relevance, input prompt will be set to __record__.main_input or `Select.RecordInput` .\n",
      "✅ In Answer Relevance, input response will be set to __record__.main_output or `Select.RecordOutput` .\n",
      "✅ In Context Relevance, input prompt will be set to __record__.main_input or `Select.RecordInput` .\n",
      "✅ In Context Relevance, input response will be set to __record__.app.query.rets.source_nodes[:].node.text .\n",
      "✅ In Groundedness, input source will be set to __record__.app.query.rets.source_nodes[:].node.text .\n",
      "✅ In Groundedness, input statement will be set to __record__.main_output or `Select.RecordOutput` .\n"
     ]
    }
   ],
   "source": [
    "import utils\n",
    "\n",
    "import os\n",
    "import openai\n",
    "openai.api_key = os.environ[\"OPENAI_API_KEY\"] # utils.get_openai_api_key()"
   ]
  },
  {
   "cell_type": "code",
   "execution_count": 7,
   "id": "31e2859b-596e-40b3-867b-f4d6e91f74bc",
   "metadata": {
    "height": 98,
    "tags": []
   },
   "outputs": [],
   "source": [
    "from llama_index import SimpleDirectoryReader\n",
    "\n",
    "documents = SimpleDirectoryReader(\n",
    "    input_files=[\"./eBook-How-to-Build-a-Career-in-AI.pdf\"]\n",
    ").load_data()"
   ]
  },
  {
   "cell_type": "code",
   "execution_count": 8,
   "id": "2d7d0857-b9d1-4feb-8243-bfd2f4953acd",
   "metadata": {
    "height": 81,
    "tags": []
   },
   "outputs": [
    {
     "name": "stdout",
     "output_type": "stream",
     "text": [
      "<class 'list'> \n",
      "\n",
      "41 \n",
      "\n",
      "<class 'llama_index.schema.Document'>\n",
      "Doc ID: 5af25021-1595-4402-9a4e-f33cfaf00ba5\n",
      "Text: PAGE 1Founder, DeepLearning.AICollected Insights from Andrew Ng\n",
      "How to  Build Your Career in AIA Simple Guide\n"
     ]
    }
   ],
   "source": [
    "print(type(documents), \"\\n\")\n",
    "print(len(documents), \"\\n\")\n",
    "print(type(documents[0]))\n",
    "print(documents[0])"
   ]
  },
  {
   "cell_type": "markdown",
   "id": "f3123d3d",
   "metadata": {},
   "source": [
    "## Basic RAG pipeline"
   ]
  },
  {
   "cell_type": "code",
   "execution_count": 9,
   "id": "b4abc806-64f5-46bb-8c9f-6469ecb18d20",
   "metadata": {
    "height": 64,
    "tags": []
   },
   "outputs": [],
   "source": [
    "from llama_index import Document\n",
    "\n",
    "document = Document(text=\"\\n\\n\".join([doc.text for doc in documents]))"
   ]
  },
  {
   "cell_type": "code",
   "execution_count": 10,
   "id": "afc2baff-5e8b-4733-9899-16f248777b23",
   "metadata": {
    "height": 183,
    "tags": []
   },
   "outputs": [
    {
     "data": {
      "application/vnd.jupyter.widget-view+json": {
       "model_id": "9b9fcc34d40b48d09e497603b1cf6329",
       "version_major": 2,
       "version_minor": 0
      },
      "text/plain": [
       "config.json:   0%|          | 0.00/743 [00:00<?, ?B/s]"
      ]
     },
     "metadata": {},
     "output_type": "display_data"
    },
    {
     "data": {
      "application/vnd.jupyter.widget-view+json": {
       "model_id": "627476ef06eb4367ab960e37c5a54850",
       "version_major": 2,
       "version_minor": 0
      },
      "text/plain": [
       "model.safetensors:   0%|          | 0.00/133M [00:00<?, ?B/s]"
      ]
     },
     "metadata": {},
     "output_type": "display_data"
    },
    {
     "data": {
      "application/vnd.jupyter.widget-view+json": {
       "model_id": "a63e6bf1d33e44c3a2cf336991603777",
       "version_major": 2,
       "version_minor": 0
      },
      "text/plain": [
       "tokenizer_config.json:   0%|          | 0.00/366 [00:00<?, ?B/s]"
      ]
     },
     "metadata": {},
     "output_type": "display_data"
    },
    {
     "data": {
      "application/vnd.jupyter.widget-view+json": {
       "model_id": "c8977af56f80435a8eedcb452a85ba06",
       "version_major": 2,
       "version_minor": 0
      },
      "text/plain": [
       "vocab.txt:   0%|          | 0.00/232k [00:00<?, ?B/s]"
      ]
     },
     "metadata": {},
     "output_type": "display_data"
    },
    {
     "data": {
      "application/vnd.jupyter.widget-view+json": {
       "model_id": "3870066b363145b192a0f7f71436d447",
       "version_major": 2,
       "version_minor": 0
      },
      "text/plain": [
       "tokenizer.json:   0%|          | 0.00/711k [00:00<?, ?B/s]"
      ]
     },
     "metadata": {},
     "output_type": "display_data"
    },
    {
     "data": {
      "application/vnd.jupyter.widget-view+json": {
       "model_id": "c8e5f36ea0d34abf9225541126810af7",
       "version_major": 2,
       "version_minor": 0
      },
      "text/plain": [
       "special_tokens_map.json:   0%|          | 0.00/125 [00:00<?, ?B/s]"
      ]
     },
     "metadata": {},
     "output_type": "display_data"
    }
   ],
   "source": [
    "from llama_index import VectorStoreIndex\n",
    "from llama_index import ServiceContext\n",
    "from llama_index.llms import OpenAI\n",
    "\n",
    "llm = OpenAI(model=\"gpt-3.5-turbo\", temperature=0.1)\n",
    "service_context = ServiceContext.from_defaults(\n",
    "    llm=llm, embed_model=\"local:BAAI/bge-small-en-v1.5\"\n",
    ")\n",
    "index = VectorStoreIndex.from_documents([document],\n",
    "                                        service_context=service_context)"
   ]
  },
  {
   "cell_type": "code",
   "execution_count": 11,
   "id": "ae52a26c-7d0c-44df-8043-4c7f19f794b9",
   "metadata": {
    "height": 30,
    "tags": []
   },
   "outputs": [],
   "source": [
    "query_engine = index.as_query_engine()"
   ]
  },
  {
   "cell_type": "code",
   "execution_count": 12,
   "id": "6b0d5b6e-cc2e-4648-b28c-5fa25a97d175",
   "metadata": {
    "height": 81,
    "tags": []
   },
   "outputs": [
    {
     "name": "stdout",
     "output_type": "stream",
     "text": [
      "When finding projects to build your experience, there are several steps you can take. First, you can join existing projects by asking to join someone else's project if they have an idea. Additionally, you can continue reading, taking courses, and talking to domain experts to come up with new ideas. It is also helpful to focus on an application area that has not yet been explored with machine learning. If your company or school has a particular application in mind, you can explore the possibilities for machine learning in that area. Finally, you can develop a side hustle or personal project that may not initially be part of your job but can help you gain experience and strengthen your skills.\n"
     ]
    }
   ],
   "source": [
    "response = query_engine.query(\n",
    "    \"What are steps to take when finding projects to build your experience?\"\n",
    ")\n",
    "print(str(response))"
   ]
  },
  {
   "cell_type": "markdown",
   "id": "e50a1ac5",
   "metadata": {},
   "source": [
    "## Evaluation setup using TruLens"
   ]
  },
  {
   "cell_type": "code",
   "execution_count": 13,
   "id": "0ead7dc1-71b2-4001-918f-bf8d610fd3fd",
   "metadata": {
    "height": 132,
    "tags": []
   },
   "outputs": [
    {
     "name": "stdout",
     "output_type": "stream",
     "text": [
      "What are the keys to building a career in AI?\n",
      "How can teamwork contribute to success in AI?\n",
      "What is the importance of networking in AI?\n",
      "What are some good habits to develop for a successful career?\n",
      "How can altruism be beneficial in building a career?\n",
      "What is imposter syndrome and how does it relate to AI?\n",
      "Who are some accomplished individuals who have experienced imposter syndrome?\n",
      "What is the first step to becoming good at AI?\n",
      "What are some common challenges in AI?\n",
      "Is it normal to find parts of AI challenging?\n"
     ]
    }
   ],
   "source": [
    "eval_questions = []\n",
    "with open('eval_questions.txt', 'r') as file:\n",
    "    for line in file:\n",
    "        # Remove newline character and convert to integer\n",
    "        item = line.strip()\n",
    "        print(item)\n",
    "        eval_questions.append(item)"
   ]
  },
  {
   "cell_type": "code",
   "execution_count": 14,
   "id": "87a278f8",
   "metadata": {
    "height": 64
   },
   "outputs": [],
   "source": [
    "# You can try your own question:\n",
    "new_question = \"What is the right AI job for me?\"\n",
    "eval_questions.append(new_question)"
   ]
  },
  {
   "cell_type": "code",
   "execution_count": 15,
   "id": "8d5204e8",
   "metadata": {
    "height": 30
   },
   "outputs": [
    {
     "name": "stdout",
     "output_type": "stream",
     "text": [
      "['What are the keys to building a career in AI?', 'How can teamwork contribute to success in AI?', 'What is the importance of networking in AI?', 'What are some good habits to develop for a successful career?', 'How can altruism be beneficial in building a career?', 'What is imposter syndrome and how does it relate to AI?', 'Who are some accomplished individuals who have experienced imposter syndrome?', 'What is the first step to becoming good at AI?', 'What are some common challenges in AI?', 'Is it normal to find parts of AI challenging?', 'What is the right AI job for me?']\n"
     ]
    }
   ],
   "source": [
    "print(eval_questions)"
   ]
  },
  {
   "cell_type": "code",
   "execution_count": 16,
   "id": "c063c9c7-bf1e-4b24-9a22-d4281c0f954e",
   "metadata": {
    "height": 81,
    "tags": []
   },
   "outputs": [
    {
     "name": "stdout",
     "output_type": "stream",
     "text": [
      "🦑 Tru initialized with db url sqlite:///default.sqlite .\n",
      "🛑 Secret keys may be written to the database. See the `database_redact_keys` option of `Tru` to prevent this.\n"
     ]
    }
   ],
   "source": [
    "from trulens_eval import Tru\n",
    "tru = Tru()\n",
    "\n",
    "tru.reset_database()"
   ]
  },
  {
   "cell_type": "markdown",
   "id": "03802825-6ce4-4563-aeec-d8d57e095ad1",
   "metadata": {},
   "source": [
    "For the classroom, we've written some of the code in helper functions inside a utils.py file.  \n",
    "- You can view the utils.py file in the file directory by clicking on the \"Jupyter\" logo at the top of the notebook.\n",
    "- In later lessons, you'll get to work directly with the code that's currently wrapped inside these helper functions, to give you more options to customize your RAG pipeline."
   ]
  },
  {
   "cell_type": "code",
   "execution_count": 17,
   "id": "4f754bed-d16f-4c8d-a1a1-b36096272570",
   "metadata": {
    "height": 81,
    "tags": []
   },
   "outputs": [],
   "source": [
    "from utils import get_prebuilt_trulens_recorder\n",
    "\n",
    "tru_recorder = get_prebuilt_trulens_recorder(query_engine,\n",
    "                                             app_id=\"Direct Query Engine\")"
   ]
  },
  {
   "cell_type": "code",
   "execution_count": 18,
   "id": "4dbdfbcc-aac7-4805-9894-4fc016c66bf6",
   "metadata": {
    "height": 64,
    "tags": []
   },
   "outputs": [],
   "source": [
    "with tru_recorder as recording:\n",
    "    for question in eval_questions:\n",
    "        response = query_engine.query(question)"
   ]
  },
  {
   "cell_type": "code",
   "execution_count": 19,
   "id": "e14f512b-601c-42d0-bfac-bf41d9c577e7",
   "metadata": {
    "height": 30,
    "tags": []
   },
   "outputs": [],
   "source": [
    "records, feedback = tru.get_records_and_feedback(app_ids=[])"
   ]
  },
  {
   "cell_type": "code",
   "execution_count": 20,
   "id": "2da4a602-0d56-4bf8-9fa6-03ef0b7e254b",
   "metadata": {
    "height": 30,
    "tags": []
   },
   "outputs": [
    {
     "data": {
      "text/html": [
       "<div>\n",
       "<style scoped>\n",
       "    .dataframe tbody tr th:only-of-type {\n",
       "        vertical-align: middle;\n",
       "    }\n",
       "\n",
       "    .dataframe tbody tr th {\n",
       "        vertical-align: top;\n",
       "    }\n",
       "\n",
       "    .dataframe thead th {\n",
       "        text-align: right;\n",
       "    }\n",
       "</style>\n",
       "<table border=\"1\" class=\"dataframe\">\n",
       "  <thead>\n",
       "    <tr style=\"text-align: right;\">\n",
       "      <th></th>\n",
       "      <th>app_id</th>\n",
       "      <th>app_json</th>\n",
       "      <th>type</th>\n",
       "      <th>record_id</th>\n",
       "      <th>input</th>\n",
       "      <th>output</th>\n",
       "      <th>tags</th>\n",
       "      <th>record_json</th>\n",
       "      <th>cost_json</th>\n",
       "      <th>perf_json</th>\n",
       "      <th>ts</th>\n",
       "      <th>Answer Relevance</th>\n",
       "      <th>Context Relevance</th>\n",
       "      <th>Answer Relevance_calls</th>\n",
       "      <th>Context Relevance_calls</th>\n",
       "      <th>Groundedness</th>\n",
       "      <th>Groundedness_calls</th>\n",
       "      <th>latency</th>\n",
       "      <th>total_tokens</th>\n",
       "      <th>total_cost</th>\n",
       "    </tr>\n",
       "  </thead>\n",
       "  <tbody>\n",
       "    <tr>\n",
       "      <th>0</th>\n",
       "      <td>Direct Query Engine</td>\n",
       "      <td>{\"app_id\": \"Direct Query Engine\", \"tags\": \"-\",...</td>\n",
       "      <td>RetrieverQueryEngine(llama_index.query_engine....</td>\n",
       "      <td>record_hash_96c2ce0f3f95f4c799bc53ba5558b8c9</td>\n",
       "      <td>\"What are the keys to building a career in AI?\"</td>\n",
       "      <td>\"The keys to building a career in AI are learn...</td>\n",
       "      <td>-</td>\n",
       "      <td>{\"record_id\": \"record_hash_96c2ce0f3f95f4c799b...</td>\n",
       "      <td>{\"n_requests\": 1, \"n_successful_requests\": 1, ...</td>\n",
       "      <td>{\"start_time\": \"2023-12-24T20:43:42.775628\", \"...</td>\n",
       "      <td>2023-12-24T20:43:49.907947</td>\n",
       "      <td>1.0</td>\n",
       "      <td>0.9</td>\n",
       "      <td>[{'args': {'prompt': 'What are the keys to bui...</td>\n",
       "      <td>[{'args': {'prompt': 'What are the keys to bui...</td>\n",
       "      <td>NaN</td>\n",
       "      <td>NaN</td>\n",
       "      <td>7</td>\n",
       "      <td>2254</td>\n",
       "      <td>0.003500</td>\n",
       "    </tr>\n",
       "    <tr>\n",
       "      <th>1</th>\n",
       "      <td>Direct Query Engine</td>\n",
       "      <td>{\"app_id\": \"Direct Query Engine\", \"tags\": \"-\",...</td>\n",
       "      <td>RetrieverQueryEngine(llama_index.query_engine....</td>\n",
       "      <td>record_hash_54a7d430daae600917a753c54473cb1f</td>\n",
       "      <td>\"How can teamwork contribute to success in AI?\"</td>\n",
       "      <td>\"Collaborating and working in teams is crucial...</td>\n",
       "      <td>-</td>\n",
       "      <td>{\"record_id\": \"record_hash_54a7d430daae600917a...</td>\n",
       "      <td>{\"n_requests\": 1, \"n_successful_requests\": 1, ...</td>\n",
       "      <td>{\"start_time\": \"2023-12-24T20:43:49.996415\", \"...</td>\n",
       "      <td>2023-12-24T20:43:53.579766</td>\n",
       "      <td>1.0</td>\n",
       "      <td>0.0</td>\n",
       "      <td>[{'args': {'prompt': 'How can teamwork contrib...</td>\n",
       "      <td>[{'args': {'prompt': 'How can teamwork contrib...</td>\n",
       "      <td>1.00</td>\n",
       "      <td>[{'args': {'source': 'Hopefully the previous c...</td>\n",
       "      <td>3</td>\n",
       "      <td>1720</td>\n",
       "      <td>0.002628</td>\n",
       "    </tr>\n",
       "    <tr>\n",
       "      <th>2</th>\n",
       "      <td>Direct Query Engine</td>\n",
       "      <td>{\"app_id\": \"Direct Query Engine\", \"tags\": \"-\",...</td>\n",
       "      <td>RetrieverQueryEngine(llama_index.query_engine....</td>\n",
       "      <td>record_hash_c5bae422ace156892c1bb9dba3a67ed5</td>\n",
       "      <td>\"What is the importance of networking in AI?\"</td>\n",
       "      <td>\"Networking is important in AI because it allo...</td>\n",
       "      <td>-</td>\n",
       "      <td>{\"record_id\": \"record_hash_c5bae422ace156892c1...</td>\n",
       "      <td>{\"n_requests\": 1, \"n_successful_requests\": 1, ...</td>\n",
       "      <td>{\"start_time\": \"2023-12-24T20:43:53.663116\", \"...</td>\n",
       "      <td>2023-12-24T20:43:56.576355</td>\n",
       "      <td>1.0</td>\n",
       "      <td>0.0</td>\n",
       "      <td>[{'args': {'prompt': 'What is the importance o...</td>\n",
       "      <td>[{'args': {'prompt': 'What is the importance o...</td>\n",
       "      <td>0.25</td>\n",
       "      <td>[{'args': {'source': 'Hopefully the previous c...</td>\n",
       "      <td>2</td>\n",
       "      <td>1704</td>\n",
       "      <td>0.002596</td>\n",
       "    </tr>\n",
       "    <tr>\n",
       "      <th>3</th>\n",
       "      <td>Direct Query Engine</td>\n",
       "      <td>{\"app_id\": \"Direct Query Engine\", \"tags\": \"-\",...</td>\n",
       "      <td>RetrieverQueryEngine(llama_index.query_engine....</td>\n",
       "      <td>record_hash_68c7226ca0e965e531eab418f9432ab4</td>\n",
       "      <td>\"What are some good habits to develop for a su...</td>\n",
       "      <td>\"Developing good habits is crucial for a succe...</td>\n",
       "      <td>-</td>\n",
       "      <td>{\"record_id\": \"record_hash_68c7226ca0e965e531e...</td>\n",
       "      <td>{\"n_requests\": 1, \"n_successful_requests\": 1, ...</td>\n",
       "      <td>{\"start_time\": \"2023-12-24T20:43:56.669833\", \"...</td>\n",
       "      <td>2023-12-24T20:43:59.552546</td>\n",
       "      <td>1.0</td>\n",
       "      <td>0.5</td>\n",
       "      <td>[{'args': {'prompt': 'What are some good habit...</td>\n",
       "      <td>[{'args': {'prompt': 'What are some good habit...</td>\n",
       "      <td>1.00</td>\n",
       "      <td>[{'args': {'source': 'Hopefully the previous c...</td>\n",
       "      <td>2</td>\n",
       "      <td>1678</td>\n",
       "      <td>0.002559</td>\n",
       "    </tr>\n",
       "    <tr>\n",
       "      <th>4</th>\n",
       "      <td>Direct Query Engine</td>\n",
       "      <td>{\"app_id\": \"Direct Query Engine\", \"tags\": \"-\",...</td>\n",
       "      <td>RetrieverQueryEngine(llama_index.query_engine....</td>\n",
       "      <td>record_hash_8f342fe9f5581ae9d8f70be8e79afe51</td>\n",
       "      <td>\"How can altruism be beneficial in building a ...</td>\n",
       "      <td>\"Altruism can be beneficial in building a care...</td>\n",
       "      <td>-</td>\n",
       "      <td>{\"record_id\": \"record_hash_8f342fe9f5581ae9d8f...</td>\n",
       "      <td>{\"n_requests\": 1, \"n_successful_requests\": 1, ...</td>\n",
       "      <td>{\"start_time\": \"2023-12-24T20:43:59.636593\", \"...</td>\n",
       "      <td>2023-12-24T20:44:02.305371</td>\n",
       "      <td>1.0</td>\n",
       "      <td>0.0</td>\n",
       "      <td>[{'args': {'prompt': 'How can altruism be bene...</td>\n",
       "      <td>[{'args': {'prompt': 'How can altruism be bene...</td>\n",
       "      <td>0.75</td>\n",
       "      <td>[{'args': {'source': 'Hopefully the previous c...</td>\n",
       "      <td>2</td>\n",
       "      <td>1668</td>\n",
       "      <td>0.002539</td>\n",
       "    </tr>\n",
       "  </tbody>\n",
       "</table>\n",
       "</div>"
      ],
      "text/plain": [
       "                app_id                                           app_json  \\\n",
       "0  Direct Query Engine  {\"app_id\": \"Direct Query Engine\", \"tags\": \"-\",...   \n",
       "1  Direct Query Engine  {\"app_id\": \"Direct Query Engine\", \"tags\": \"-\",...   \n",
       "2  Direct Query Engine  {\"app_id\": \"Direct Query Engine\", \"tags\": \"-\",...   \n",
       "3  Direct Query Engine  {\"app_id\": \"Direct Query Engine\", \"tags\": \"-\",...   \n",
       "4  Direct Query Engine  {\"app_id\": \"Direct Query Engine\", \"tags\": \"-\",...   \n",
       "\n",
       "                                                type  \\\n",
       "0  RetrieverQueryEngine(llama_index.query_engine....   \n",
       "1  RetrieverQueryEngine(llama_index.query_engine....   \n",
       "2  RetrieverQueryEngine(llama_index.query_engine....   \n",
       "3  RetrieverQueryEngine(llama_index.query_engine....   \n",
       "4  RetrieverQueryEngine(llama_index.query_engine....   \n",
       "\n",
       "                                      record_id  \\\n",
       "0  record_hash_96c2ce0f3f95f4c799bc53ba5558b8c9   \n",
       "1  record_hash_54a7d430daae600917a753c54473cb1f   \n",
       "2  record_hash_c5bae422ace156892c1bb9dba3a67ed5   \n",
       "3  record_hash_68c7226ca0e965e531eab418f9432ab4   \n",
       "4  record_hash_8f342fe9f5581ae9d8f70be8e79afe51   \n",
       "\n",
       "                                               input  \\\n",
       "0    \"What are the keys to building a career in AI?\"   \n",
       "1    \"How can teamwork contribute to success in AI?\"   \n",
       "2      \"What is the importance of networking in AI?\"   \n",
       "3  \"What are some good habits to develop for a su...   \n",
       "4  \"How can altruism be beneficial in building a ...   \n",
       "\n",
       "                                              output tags  \\\n",
       "0  \"The keys to building a career in AI are learn...    -   \n",
       "1  \"Collaborating and working in teams is crucial...    -   \n",
       "2  \"Networking is important in AI because it allo...    -   \n",
       "3  \"Developing good habits is crucial for a succe...    -   \n",
       "4  \"Altruism can be beneficial in building a care...    -   \n",
       "\n",
       "                                         record_json  \\\n",
       "0  {\"record_id\": \"record_hash_96c2ce0f3f95f4c799b...   \n",
       "1  {\"record_id\": \"record_hash_54a7d430daae600917a...   \n",
       "2  {\"record_id\": \"record_hash_c5bae422ace156892c1...   \n",
       "3  {\"record_id\": \"record_hash_68c7226ca0e965e531e...   \n",
       "4  {\"record_id\": \"record_hash_8f342fe9f5581ae9d8f...   \n",
       "\n",
       "                                           cost_json  \\\n",
       "0  {\"n_requests\": 1, \"n_successful_requests\": 1, ...   \n",
       "1  {\"n_requests\": 1, \"n_successful_requests\": 1, ...   \n",
       "2  {\"n_requests\": 1, \"n_successful_requests\": 1, ...   \n",
       "3  {\"n_requests\": 1, \"n_successful_requests\": 1, ...   \n",
       "4  {\"n_requests\": 1, \"n_successful_requests\": 1, ...   \n",
       "\n",
       "                                           perf_json  \\\n",
       "0  {\"start_time\": \"2023-12-24T20:43:42.775628\", \"...   \n",
       "1  {\"start_time\": \"2023-12-24T20:43:49.996415\", \"...   \n",
       "2  {\"start_time\": \"2023-12-24T20:43:53.663116\", \"...   \n",
       "3  {\"start_time\": \"2023-12-24T20:43:56.669833\", \"...   \n",
       "4  {\"start_time\": \"2023-12-24T20:43:59.636593\", \"...   \n",
       "\n",
       "                           ts  Answer Relevance  Context Relevance  \\\n",
       "0  2023-12-24T20:43:49.907947               1.0                0.9   \n",
       "1  2023-12-24T20:43:53.579766               1.0                0.0   \n",
       "2  2023-12-24T20:43:56.576355               1.0                0.0   \n",
       "3  2023-12-24T20:43:59.552546               1.0                0.5   \n",
       "4  2023-12-24T20:44:02.305371               1.0                0.0   \n",
       "\n",
       "                              Answer Relevance_calls  \\\n",
       "0  [{'args': {'prompt': 'What are the keys to bui...   \n",
       "1  [{'args': {'prompt': 'How can teamwork contrib...   \n",
       "2  [{'args': {'prompt': 'What is the importance o...   \n",
       "3  [{'args': {'prompt': 'What are some good habit...   \n",
       "4  [{'args': {'prompt': 'How can altruism be bene...   \n",
       "\n",
       "                             Context Relevance_calls  Groundedness  \\\n",
       "0  [{'args': {'prompt': 'What are the keys to bui...           NaN   \n",
       "1  [{'args': {'prompt': 'How can teamwork contrib...          1.00   \n",
       "2  [{'args': {'prompt': 'What is the importance o...          0.25   \n",
       "3  [{'args': {'prompt': 'What are some good habit...          1.00   \n",
       "4  [{'args': {'prompt': 'How can altruism be bene...          0.75   \n",
       "\n",
       "                                  Groundedness_calls  latency  total_tokens  \\\n",
       "0                                                NaN        7          2254   \n",
       "1  [{'args': {'source': 'Hopefully the previous c...        3          1720   \n",
       "2  [{'args': {'source': 'Hopefully the previous c...        2          1704   \n",
       "3  [{'args': {'source': 'Hopefully the previous c...        2          1678   \n",
       "4  [{'args': {'source': 'Hopefully the previous c...        2          1668   \n",
       "\n",
       "   total_cost  \n",
       "0    0.003500  \n",
       "1    0.002628  \n",
       "2    0.002596  \n",
       "3    0.002559  \n",
       "4    0.002539  "
      ]
     },
     "execution_count": 20,
     "metadata": {},
     "output_type": "execute_result"
    }
   ],
   "source": [
    "records.head()"
   ]
  },
  {
   "cell_type": "code",
   "execution_count": 21,
   "id": "64310897-179b-4081-aab8-f08a3392a078",
   "metadata": {
    "height": 47,
    "tags": []
   },
   "outputs": [
    {
     "name": "stdout",
     "output_type": "stream",
     "text": [
      "Starting dashboard ...\n",
      "Config file already exists. Skipping writing process.\n",
      "Credentials file already exists. Skipping writing process.\n"
     ]
    },
    {
     "data": {
      "application/vnd.jupyter.widget-view+json": {
       "model_id": "a94f52cbc55e4509a7d95141501ce85d",
       "version_major": 2,
       "version_minor": 0
      },
      "text/plain": [
       "Accordion(children=(VBox(children=(VBox(children=(Label(value='STDOUT'), Output())), VBox(children=(Label(valu…"
      ]
     },
     "metadata": {},
     "output_type": "display_data"
    },
    {
     "name": "stdout",
     "output_type": "stream",
     "text": [
      "Dashboard started at http://10.0.0.168:8501 .\n"
     ]
    },
    {
     "data": {
      "text/plain": [
       "<Popen: returncode: None args: ['streamlit', 'run', '--server.headless=True'...>"
      ]
     },
     "execution_count": 21,
     "metadata": {},
     "output_type": "execute_result"
    }
   ],
   "source": [
    "# launches on http://localhost:8501/\n",
    "tru.run_dashboard()"
   ]
  },
  {
   "cell_type": "markdown",
   "id": "a4eedcef",
   "metadata": {},
   "source": [
    "## Advanced RAG pipeline"
   ]
  },
  {
   "cell_type": "markdown",
   "id": "9a17ea2b",
   "metadata": {},
   "source": [
    "### 1. Sentence Window retrieval"
   ]
  },
  {
   "cell_type": "code",
   "execution_count": 22,
   "id": "dae4a668-3699-4750-82f7-e53ae1bca3a7",
   "metadata": {
    "height": 64,
    "tags": []
   },
   "outputs": [],
   "source": [
    "from llama_index.llms import OpenAI\n",
    "\n",
    "llm = OpenAI(model=\"gpt-3.5-turbo\", temperature=0.1)"
   ]
  },
  {
   "cell_type": "code",
   "execution_count": 23,
   "id": "78f7678f-358d-448d-b153-11ac8e96a7fc",
   "metadata": {
    "height": 149,
    "tags": []
   },
   "outputs": [],
   "source": [
    "from utils import build_sentence_window_index\n",
    "\n",
    "sentence_index = build_sentence_window_index(\n",
    "    document,\n",
    "    llm,\n",
    "    embed_model=\"local:BAAI/bge-small-en-v1.5\",\n",
    "    save_dir=\"sentence_index\"\n",
    ")"
   ]
  },
  {
   "cell_type": "code",
   "execution_count": 24,
   "id": "72f904c3-9845-4df5-9d2e-e5115160f987",
   "metadata": {
    "height": 64,
    "tags": []
   },
   "outputs": [],
   "source": [
    "from utils import get_sentence_window_query_engine\n",
    "\n",
    "sentence_window_engine = get_sentence_window_query_engine(sentence_index)"
   ]
  },
  {
   "cell_type": "code",
   "execution_count": 25,
   "id": "f59e2314-7cac-42f4-a552-9a8e4db641eb",
   "metadata": {
    "height": 81,
    "tags": []
   },
   "outputs": [
    {
     "name": "stdout",
     "output_type": "stream",
     "text": [
      "To get started on a personal project in AI, it is important to first identify and scope the project. Consider your career goals and choose a project that complements them. Ensure that the project is responsible, ethical, and beneficial to people. As you progress in your career, aim for projects that grow in scope, complexity, and impact over time. Building a portfolio of projects that shows skill progression can also be helpful. Additionally, there are resources available in the book that provide guidance on starting your AI job search and finding the right AI job for you.\n"
     ]
    }
   ],
   "source": [
    "window_response = sentence_window_engine.query(\n",
    "    \"how do I get started on a personal project in AI?\"\n",
    ")\n",
    "print(str(window_response))"
   ]
  },
  {
   "cell_type": "code",
   "execution_count": 26,
   "id": "b5c10917-8846-4e73-838d-6232c906a7db",
   "metadata": {
    "height": 115,
    "tags": []
   },
   "outputs": [],
   "source": [
    "tru.reset_database()\n",
    "\n",
    "tru_recorder_sentence_window = get_prebuilt_trulens_recorder(\n",
    "    sentence_window_engine,\n",
    "    app_id = \"Sentence Window Query Engine\"\n",
    ")"
   ]
  },
  {
   "cell_type": "code",
   "execution_count": 27,
   "id": "11710e67-aba8-479e-8585-c4c611e2c1d2",
   "metadata": {
    "height": 98,
    "tags": []
   },
   "outputs": [
    {
     "name": "stdout",
     "output_type": "stream",
     "text": [
      "What are the keys to building a career in AI?\n",
      "The keys to building a career in AI are learning foundational technical skills, working on projects, and finding a job, all of which is supported by being part of a community.\n",
      "How can teamwork contribute to success in AI?\n",
      "Teamwork can contribute to success in AI by allowing individuals to leverage the expertise and insights of their colleagues. When working on larger AI projects, the ability to collaborate effectively with teammates becomes crucial. By working together, team members can share their deep technical insights, make informed decisions about technical architecture or data collection, and ultimately improve the project. Additionally, being surrounded by colleagues who are dedicated, hardworking, and continuously learning can inspire individuals to do the same, leading to greater success in AI endeavors.\n",
      "What is the importance of networking in AI?\n",
      "Networking is important in AI because it allows individuals to connect with others who have experience and knowledge in the field. By reaching out to people in their network, such as friends or alumni, individuals can receive guidance and support as they navigate their career in AI. Additionally, attending meetups and engaging in informational interviews can help individuals expand their network and gain insights from professionals in the industry. This networking can provide valuable opportunities for learning, mentorship, and potential job prospects in the evolving field of AI.\n",
      "What are some good habits to develop for a successful career?\n",
      "Developing good habits in areas such as eating, exercise, sleep, personal relationships, work, learning, and self-care can contribute to a successful career. These habits can help individuals move forward while staying healthy and ultimately achieve better outcomes for themselves.\n",
      "How can altruism be beneficial in building a career?\n",
      "Altruism can be beneficial in building a career by helping others even as one focuses on their own career growth. By aiming to lift others during every step of their own journey, individuals can achieve better outcomes for themselves. This can create a positive reputation and network, which can lead to new opportunities and collaborations. Additionally, practicing altruism can enhance personal satisfaction and fulfillment, which can contribute to overall well-being and success in one's career.\n",
      "What is imposter syndrome and how does it relate to AI?\n",
      "Imposter syndrome is a psychological phenomenon where individuals doubt their own abilities and fear being exposed as a fraud, despite evidence of their success. In the context of AI, newcomers to the field sometimes experience imposter syndrome, questioning whether they truly belong in the AI community and if they are capable of contributing. It is important to address imposter syndrome in order to encourage individuals to continue growing in AI and not let self-doubt hinder their progress.\n",
      "Who are some accomplished individuals who have experienced imposter syndrome?\n",
      "Some accomplished individuals who have experienced imposter syndrome include former Facebook COO Sheryl Sandberg, U.S. first lady Michelle Obama, actor Tom Hanks, and Atlassian co-CEO Mike Cannon-Brookes.\n",
      "What is the first step to becoming good at AI?\n",
      "The first step to becoming good at AI is to learn foundational technical skills.\n",
      "What are some common challenges in AI?\n",
      "Some common challenges in AI include keeping up-to-date with evolving technology, finding suitable projects and estimating timelines and return on investment, managing the highly iterative nature of AI projects, collaborating with stakeholders who lack expertise in AI, and struggling with technical challenges while reading research papers or tuning neural network hyperparameters.\n",
      "Is it normal to find parts of AI challenging?\n",
      "Yes, it is normal to find parts of AI challenging. The author mentions that they still find many research papers challenging to read and have made mistakes while working with neural networks. They also assure the reader that everyone who has published a seminal AI paper has struggled with similar technical challenges at some point. Therefore, it is clear that finding parts of AI challenging is a common experience.\n",
      "What is the right AI job for me?\n",
      "The right AI job for you will depend on your career goals and the skills you have developed. Building a portfolio of projects that show skill progression can help you identify the right AI job for you. Additionally, using a simple framework for starting your AI job search and conducting informational interviews can help you find the right job that aligns with your interests and aspirations.\n"
     ]
    }
   ],
   "source": [
    "for question in eval_questions:\n",
    "    with tru_recorder_sentence_window as recording:\n",
    "        response = sentence_window_engine.query(question)\n",
    "        print(question)\n",
    "        print(str(response))"
   ]
  },
  {
   "cell_type": "code",
   "execution_count": 28,
   "id": "869d1e55-729b-45f2-a0f9-773c49d4616f",
   "metadata": {
    "height": 30,
    "tags": []
   },
   "outputs": [
    {
     "data": {
      "text/html": [
       "<div>\n",
       "<style scoped>\n",
       "    .dataframe tbody tr th:only-of-type {\n",
       "        vertical-align: middle;\n",
       "    }\n",
       "\n",
       "    .dataframe tbody tr th {\n",
       "        vertical-align: top;\n",
       "    }\n",
       "\n",
       "    .dataframe thead th {\n",
       "        text-align: right;\n",
       "    }\n",
       "</style>\n",
       "<table border=\"1\" class=\"dataframe\">\n",
       "  <thead>\n",
       "    <tr style=\"text-align: right;\">\n",
       "      <th></th>\n",
       "      <th>Groundedness</th>\n",
       "      <th>Answer Relevance</th>\n",
       "      <th>Context Relevance</th>\n",
       "      <th>latency</th>\n",
       "      <th>total_cost</th>\n",
       "    </tr>\n",
       "    <tr>\n",
       "      <th>app_id</th>\n",
       "      <th></th>\n",
       "      <th></th>\n",
       "      <th></th>\n",
       "      <th></th>\n",
       "      <th></th>\n",
       "    </tr>\n",
       "  </thead>\n",
       "  <tbody>\n",
       "    <tr>\n",
       "      <th>Sentence Window Query Engine</th>\n",
       "      <td>1.0</td>\n",
       "      <td>0.983333</td>\n",
       "      <td>0.166667</td>\n",
       "      <td>2.0</td>\n",
       "      <td>0.000844</td>\n",
       "    </tr>\n",
       "  </tbody>\n",
       "</table>\n",
       "</div>"
      ],
      "text/plain": [
       "                              Groundedness  Answer Relevance  \\\n",
       "app_id                                                         \n",
       "Sentence Window Query Engine           1.0          0.983333   \n",
       "\n",
       "                              Context Relevance  latency  total_cost  \n",
       "app_id                                                                \n",
       "Sentence Window Query Engine           0.166667      2.0    0.000844  "
      ]
     },
     "execution_count": 28,
     "metadata": {},
     "output_type": "execute_result"
    }
   ],
   "source": [
    "tru.get_leaderboard(app_ids=[])"
   ]
  },
  {
   "cell_type": "code",
   "execution_count": 29,
   "id": "0b92d0f2-2e80-48d5-92af-b3655eb03ea2",
   "metadata": {
    "height": 47,
    "tags": []
   },
   "outputs": [
    {
     "name": "stdout",
     "output_type": "stream",
     "text": [
      "Starting dashboard ...\n",
      "Config file already exists. Skipping writing process.\n",
      "Credentials file already exists. Skipping writing process.\n",
      "Dashboard already running at path:   Network URL: http://10.0.0.168:8501\n",
      "\n"
     ]
    },
    {
     "data": {
      "text/plain": [
       "<Popen: returncode: None args: ['streamlit', 'run', '--server.headless=True'...>"
      ]
     },
     "execution_count": 29,
     "metadata": {},
     "output_type": "execute_result"
    }
   ],
   "source": [
    "# launches on http://localhost:8501/\n",
    "tru.run_dashboard()"
   ]
  },
  {
   "cell_type": "markdown",
   "id": "a92e2c55",
   "metadata": {},
   "source": [
    "### 2. Auto-merging retrieval"
   ]
  },
  {
   "cell_type": "code",
   "execution_count": 30,
   "id": "558c639b-31eb-4c34-b6c4-fe6ae5717733",
   "metadata": {
    "height": 149,
    "tags": []
   },
   "outputs": [],
   "source": [
    "from utils import build_automerging_index\n",
    "\n",
    "automerging_index = build_automerging_index(\n",
    "    documents,\n",
    "    llm,\n",
    "    embed_model=\"local:BAAI/bge-small-en-v1.5\",\n",
    "    save_dir=\"merging_index\"\n",
    ")"
   ]
  },
  {
   "cell_type": "code",
   "execution_count": 31,
   "id": "b32265f2-0247-42df-9abe-97d52f69edcf",
   "metadata": {
    "height": 98,
    "tags": []
   },
   "outputs": [],
   "source": [
    "from utils import get_automerging_query_engine\n",
    "\n",
    "automerging_query_engine = get_automerging_query_engine(\n",
    "    automerging_index,\n",
    ")"
   ]
  },
  {
   "cell_type": "code",
   "execution_count": 32,
   "id": "918ed568-220e-4c7c-aa60-cfa58ef1fcbd",
   "metadata": {
    "height": 81,
    "tags": []
   },
   "outputs": [
    {
     "name": "stdout",
     "output_type": "stream",
     "text": [
      "> Merging 1 nodes into parent node.\n",
      "> Parent node id: 67b39a93-e052-4378-8662-5ad6b4499c57.\n",
      "> Parent node text: PAGE 21Building a Portfolio of \n",
      "Projects that Shows \n",
      "Skill Progression CHAPTER 6\n",
      "PROJECTS\n",
      "\n",
      "> Merging 1 nodes into parent node.\n",
      "> Parent node id: 4fd9c0eb-2bbd-43e3-9010-e2bea0b3d94c.\n",
      "> Parent node text: PAGE 21Building a Portfolio of \n",
      "Projects that Shows \n",
      "Skill Progression CHAPTER 6\n",
      "PROJECTS\n",
      "\n",
      "To build a portfolio of AI projects, it is important to start with simple undertakings and gradually progress to more complex ones. This progression will demonstrate your growth and development over time. Additionally, effective communication is crucial. You should be able to explain your thought process and the value of your work to others. This will help others see the potential in your projects and trust you with resources for larger endeavors.\n"
     ]
    }
   ],
   "source": [
    "auto_merging_response = automerging_query_engine.query(\n",
    "    \"How do I build a portfolio of AI projects?\"\n",
    ")\n",
    "print(str(auto_merging_response))"
   ]
  },
  {
   "cell_type": "code",
   "execution_count": 33,
   "id": "db4f18a9-7b8a-4ae2-ab11-3a6a941a5afc",
   "metadata": {
    "height": 81,
    "tags": []
   },
   "outputs": [],
   "source": [
    "tru.reset_database()\n",
    "\n",
    "tru_recorder_automerging = get_prebuilt_trulens_recorder(automerging_query_engine,\n",
    "                                                         app_id=\"Automerging Query Engine\")"
   ]
  },
  {
   "cell_type": "code",
   "execution_count": 34,
   "id": "99cc2cfe-7096-4fa0-aa72-094bebac35a3",
   "metadata": {
    "height": 98,
    "tags": []
   },
   "outputs": [
    {
     "name": "stdout",
     "output_type": "stream",
     "text": [
      "> Merging 2 nodes into parent node.\n",
      "> Parent node id: 35af8197-b24d-47f9-ae68-0197fe3e1e40.\n",
      "> Parent node text: PAGE 3Table of \n",
      "ContentsIntroduction: Coding AI is the New Literacy.\n",
      "Chapter 1: Three Steps to Ca...\n",
      "\n",
      "> Merging 1 nodes into parent node.\n",
      "> Parent node id: 77692cbd-670f-479a-b9de-c4647952e28d.\n",
      "> Parent node text: PAGE 3Table of \n",
      "ContentsIntroduction: Coding AI is the New Literacy.\n",
      "Chapter 1: Three Steps to Ca...\n",
      "\n",
      "What are the keys to building a career in AI?\n",
      "The keys to building a career in AI include learning foundational technical skills, working on projects, finding a job, and being part of a community. Additionally, collaborating with others and being able to influence and be influenced by others is critical for success in AI.\n",
      "How can teamwork contribute to success in AI?\n",
      "Teamwork can contribute to success in AI by allowing individuals to collaborate with others, influence their team members, and be influenced by them. This is important because when tackling large projects, working in teams is more effective than working individually. Additionally, teamwork helps in developing interpersonal and communication skills, which are crucial in the field of AI.\n",
      "> Merging 3 nodes into parent node.\n",
      "> Parent node id: 5a611ac8-7fe1-49c8-9627-3687c58e3e1b.\n",
      "> Parent node text: PAGE 35Keys to Building a Career in AI CHAPTER 10\n",
      "The path to career success in AI is more comple...\n",
      "\n",
      "> Merging 1 nodes into parent node.\n",
      "> Parent node id: ae43fb1b-9859-48df-91ba-997e56cff58d.\n",
      "> Parent node text: PAGE 35Keys to Building a Career in AI CHAPTER 10\n",
      "The path to career success in AI is more comple...\n",
      "\n",
      "What is the importance of networking in AI?\n",
      "Networking is important in AI because it helps in building a strong professional network and community. This network can provide support, advice, and help when needed. It can also help in meeting new people and making friends, which can be beneficial for career growth and opportunities. Additionally, having a network within the industry can make future job searches easier, as one would have a good sense of the requirements for senior roles and have connections to assist in the process.\n",
      "> Merging 2 nodes into parent node.\n",
      "> Parent node id: 506d99ba-6aaa-4a18-81a3-ccfb8ab46f13.\n",
      "> Parent node text: PAGE 36Keys to Building a Career in AI CHAPTER 10\n",
      "Of all the steps in building a career, this \n",
      "on...\n",
      "\n",
      "> Merging 2 nodes into parent node.\n",
      "> Parent node id: cfa55355-f767-4bb0-865e-839741b41043.\n",
      "> Parent node text: PAGE 11\n",
      "The Best Way to Build \n",
      "a New Habit\n",
      "One of my favorite books is BJ Fogg’s, Tiny Habits: Th...\n",
      "\n",
      "> Merging 1 nodes into parent node.\n",
      "> Parent node id: a515b122-437d-4513-84cd-5bd482a4c95a.\n",
      "> Parent node text: PAGE 36Keys to Building a Career in AI CHAPTER 10\n",
      "Of all the steps in building a career, this \n",
      "on...\n",
      "\n",
      "> Merging 1 nodes into parent node.\n",
      "> Parent node id: db40ca78-317c-4160-9f68-b75fffec7c55.\n",
      "> Parent node text: PAGE 11\n",
      "The Best Way to Build \n",
      "a New Habit\n",
      "One of my favorite books is BJ Fogg’s, Tiny Habits: Th...\n",
      "\n",
      "What are some good habits to develop for a successful career?\n",
      "Developing good habits in eating, exercise, sleep, personal relationships, work, learning, and self-care can help in building a successful career.\n",
      "> Merging 2 nodes into parent node.\n",
      "> Parent node id: 49eb30a1-fbd4-4f61-ac43-366006c7607d.\n",
      "> Parent node text: PAGE 30Finding someone to interview isn’t always easy, but many people who are in senior position...\n",
      "\n",
      "> Merging 1 nodes into parent node.\n",
      "> Parent node id: 59f89822-2962-4ed6-a167-102d22d68f69.\n",
      "> Parent node text: PAGE 30Finding someone to interview isn’t always easy, but many people who are in senior position...\n",
      "\n",
      "How can altruism be beneficial in building a career?\n",
      "Altruism can be beneficial in building a career by helping others even as we pursue our own career goals. By lifting others and providing support, we can create a positive impact on those around us. This can lead to better outcomes for ourselves as well, as people who have received help in the past may be more inclined to pay it forward and support us in our career journey. Additionally, building a network and community of individuals who share similar interests and goals can provide valuable information, support, and potential job referrals.\n",
      "> Merging 5 nodes into parent node.\n",
      "> Parent node id: 5f7468ae-c065-4e92-a392-d1a22d37ae39.\n",
      "> Parent node text: PAGE 38Before we dive into the final chapter of this book, I’d like to address the serious matter...\n",
      "\n",
      "> Merging 1 nodes into parent node.\n",
      "> Parent node id: 6125f541-ad19-4120-9929-7af2515bc4b4.\n",
      "> Parent node text: PAGE 37Overcoming Imposter \n",
      "SyndromeCHAPTER 11\n",
      "\n",
      "> Merging 3 nodes into parent node.\n",
      "> Parent node id: f275ff8b-6d36-4870-b71d-61d9bf983d53.\n",
      "> Parent node text: PAGE 39My three-year-old daughter (who can barely count to 12) regularly tries to teach things to...\n",
      "\n",
      "> Merging 1 nodes into parent node.\n",
      "> Parent node id: 1cdaa160-aceb-4a0d-999c-12dc4fb2d7ea.\n",
      "> Parent node text: PAGE 38Before we dive into the final chapter of this book, I’d like to address the serious matter...\n",
      "\n",
      "> Merging 1 nodes into parent node.\n",
      "> Parent node id: d9ce628b-0f0c-47f5-b944-8a79210ae8f7.\n",
      "> Parent node text: PAGE 37Overcoming Imposter \n",
      "SyndromeCHAPTER 11\n",
      "\n",
      "> Merging 1 nodes into parent node.\n",
      "> Parent node id: 67ae00e6-eabf-42c5-95c2-4a6243fcae1d.\n",
      "> Parent node text: PAGE 39My three-year-old daughter (who can barely count to 12) regularly tries to teach things to...\n",
      "\n",
      "What is imposter syndrome and how does it relate to AI?\n",
      "Imposter syndrome is a psychological phenomenon where individuals doubt their accomplishments and have a persistent fear of being exposed as a fraud, despite evidence of their competence. In the context of AI, newcomers to the field sometimes experience imposter syndrome, questioning their abilities and whether they truly belong in the AI community. The passage emphasizes that imposter syndrome is not uncommon and affects even accomplished individuals. It encourages everyone, regardless of their experience or self-doubt, to be welcomed and supported in the AI community.\n",
      "> Merging 3 nodes into parent node.\n",
      "> Parent node id: 5f7468ae-c065-4e92-a392-d1a22d37ae39.\n",
      "> Parent node text: PAGE 38Before we dive into the final chapter of this book, I’d like to address the serious matter...\n",
      "\n",
      "> Merging 1 nodes into parent node.\n",
      "> Parent node id: 6125f541-ad19-4120-9929-7af2515bc4b4.\n",
      "> Parent node text: PAGE 37Overcoming Imposter \n",
      "SyndromeCHAPTER 11\n",
      "\n",
      "> Merging 3 nodes into parent node.\n",
      "> Parent node id: f275ff8b-6d36-4870-b71d-61d9bf983d53.\n",
      "> Parent node text: PAGE 39My three-year-old daughter (who can barely count to 12) regularly tries to teach things to...\n",
      "\n",
      "> Merging 1 nodes into parent node.\n",
      "> Parent node id: 1cdaa160-aceb-4a0d-999c-12dc4fb2d7ea.\n",
      "> Parent node text: PAGE 38Before we dive into the final chapter of this book, I’d like to address the serious matter...\n",
      "\n",
      "> Merging 1 nodes into parent node.\n",
      "> Parent node id: d9ce628b-0f0c-47f5-b944-8a79210ae8f7.\n",
      "> Parent node text: PAGE 37Overcoming Imposter \n",
      "SyndromeCHAPTER 11\n",
      "\n",
      "> Merging 1 nodes into parent node.\n",
      "> Parent node id: 67ae00e6-eabf-42c5-95c2-4a6243fcae1d.\n",
      "> Parent node text: PAGE 39My three-year-old daughter (who can barely count to 12) regularly tries to teach things to...\n",
      "\n",
      "Who are some accomplished individuals who have experienced imposter syndrome?\n",
      "Sheryl Sandberg, Michelle Obama, Tom Hanks, and Mike Cannon-Brookes are some accomplished individuals who have experienced imposter syndrome.\n",
      "What is the first step to becoming good at AI?\n",
      "The first step to becoming good at AI is to suck at it.\n",
      "What are some common challenges in AI?\n",
      "Some common challenges in AI include the highly iterative nature of AI projects and the difficulty in coming up with a plan for building a system when the time required to achieve the target accuracy is unknown. Additionally, technical challenges are also common in AI, which even experienced researchers and professionals have struggled with at some point.\n",
      "> Merging 3 nodes into parent node.\n",
      "> Parent node id: 5f7468ae-c065-4e92-a392-d1a22d37ae39.\n",
      "> Parent node text: PAGE 38Before we dive into the final chapter of this book, I’d like to address the serious matter...\n",
      "\n",
      "> Merging 1 nodes into parent node.\n",
      "> Parent node id: 1cdaa160-aceb-4a0d-999c-12dc4fb2d7ea.\n",
      "> Parent node text: PAGE 38Before we dive into the final chapter of this book, I’d like to address the serious matter...\n",
      "\n",
      "Is it normal to find parts of AI challenging?\n",
      "Yes, it is normal to find parts of AI challenging. The context suggests that even accomplished individuals in the AI community have faced technical challenges and struggled with certain aspects of AI. The author encourages newcomers to not be discouraged by these challenges and assures them that everyone has been in a similar position at some point.\n",
      "> Merging 1 nodes into parent node.\n",
      "> Parent node id: 20be2143-b50a-40d5-8293-e97b81646a99.\n",
      "> Parent node text: PAGE 31Finding the Right \n",
      "AI Job for YouCHAPTER 9\n",
      "JOBS\n",
      "\n",
      "> Merging 1 nodes into parent node.\n",
      "> Parent node id: 06baa893-a2cd-4c7d-90d5-589cdc2b457a.\n",
      "> Parent node text: If you’re leaving \n",
      "a job, exit gracefully. Give your employer ample notice, give your full effort...\n",
      "\n",
      "> Merging 1 nodes into parent node.\n",
      "> Parent node id: 76fce84f-adc7-4f35-858a-9b9d96f63e05.\n",
      "> Parent node text: PAGE 28Using Informational \n",
      "Interviews to Find \n",
      "the Right JobCHAPTER 8\n",
      "JOBS\n",
      "\n",
      "> Merging 1 nodes into parent node.\n",
      "> Parent node id: 26f68d00-2765-46cf-bd99-f3261a1c2019.\n",
      "> Parent node text: PAGE 31Finding the Right \n",
      "AI Job for YouCHAPTER 9\n",
      "JOBS\n",
      "\n",
      "> Merging 1 nodes into parent node.\n",
      "> Parent node id: 392e4637-e8c9-437f-b391-733dbb1f32fc.\n",
      "> Parent node text: PAGE 28Using Informational \n",
      "Interviews to Find \n",
      "the Right JobCHAPTER 8\n",
      "JOBS\n",
      "\n",
      "What is the right AI job for me?\n",
      "The right AI job for you would depend on your specific skills, interests, and career goals. It is important to consider your background and experience in order to determine which AI job aligns best with your qualifications and aspirations. Additionally, it may be helpful to explore different roles and industries within the field of AI to find the one that suits you best.\n"
     ]
    }
   ],
   "source": [
    "for question in eval_questions:\n",
    "    with tru_recorder_automerging as recording:\n",
    "        response = automerging_query_engine.query(question)\n",
    "        print(question)\n",
    "        print(response)"
   ]
  },
  {
   "cell_type": "code",
   "execution_count": 35,
   "id": "5404dec1-60ca-42fa-ac13-793a5423aa64",
   "metadata": {
    "height": 30,
    "tags": []
   },
   "outputs": [
    {
     "data": {
      "text/html": [
       "<div>\n",
       "<style scoped>\n",
       "    .dataframe tbody tr th:only-of-type {\n",
       "        vertical-align: middle;\n",
       "    }\n",
       "\n",
       "    .dataframe tbody tr th {\n",
       "        vertical-align: top;\n",
       "    }\n",
       "\n",
       "    .dataframe thead th {\n",
       "        text-align: right;\n",
       "    }\n",
       "</style>\n",
       "<table border=\"1\" class=\"dataframe\">\n",
       "  <thead>\n",
       "    <tr style=\"text-align: right;\">\n",
       "      <th></th>\n",
       "      <th>Answer Relevance</th>\n",
       "      <th>latency</th>\n",
       "      <th>total_cost</th>\n",
       "    </tr>\n",
       "    <tr>\n",
       "      <th>app_id</th>\n",
       "      <th></th>\n",
       "      <th></th>\n",
       "      <th></th>\n",
       "    </tr>\n",
       "  </thead>\n",
       "  <tbody>\n",
       "    <tr>\n",
       "      <th>Automerging Query Engine</th>\n",
       "      <td>0.95</td>\n",
       "      <td>1.818182</td>\n",
       "      <td>0.000887</td>\n",
       "    </tr>\n",
       "  </tbody>\n",
       "</table>\n",
       "</div>"
      ],
      "text/plain": [
       "                          Answer Relevance   latency  total_cost\n",
       "app_id                                                          \n",
       "Automerging Query Engine              0.95  1.818182    0.000887"
      ]
     },
     "execution_count": 35,
     "metadata": {},
     "output_type": "execute_result"
    }
   ],
   "source": [
    "tru.get_leaderboard(app_ids=[])"
   ]
  },
  {
   "cell_type": "code",
   "execution_count": 36,
   "id": "0f545d41-0d98-446f-8214-8b59bef08d6c",
   "metadata": {
    "height": 47,
    "tags": []
   },
   "outputs": [
    {
     "name": "stdout",
     "output_type": "stream",
     "text": [
      "Starting dashboard ...\n",
      "Config file already exists. Skipping writing process.\n",
      "Credentials file already exists. Skipping writing process.\n",
      "Dashboard already running at path:   Network URL: http://10.0.0.168:8501\n",
      "\n"
     ]
    },
    {
     "data": {
      "text/plain": [
       "<Popen: returncode: None args: ['streamlit', 'run', '--server.headless=True'...>"
      ]
     },
     "execution_count": 36,
     "metadata": {},
     "output_type": "execute_result"
    }
   ],
   "source": [
    "# launches on http://localhost:8501/\n",
    "tru.run_dashboard()"
   ]
  },
  {
   "cell_type": "code",
   "execution_count": null,
   "id": "922eae42-5209-4c62-aa8c-1de21fc538aa",
   "metadata": {},
   "outputs": [],
   "source": []
  }
 ],
 "metadata": {
  "kernelspec": {
   "display_name": "Python 3 (ipykernel)",
   "language": "python",
   "name": "python3"
  },
  "language_info": {
   "codemirror_mode": {
    "name": "ipython",
    "version": 3
   },
   "file_extension": ".py",
   "mimetype": "text/x-python",
   "name": "python",
   "nbconvert_exporter": "python",
   "pygments_lexer": "ipython3",
   "version": "3.10.13"
  }
 },
 "nbformat": 4,
 "nbformat_minor": 5
}
